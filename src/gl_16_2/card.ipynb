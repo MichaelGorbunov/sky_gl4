{
 "cells": [
  {
   "cell_type": "code",
   "execution_count": 6,
   "metadata": {},
   "outputs": [
    {
     "name": "stdout",
     "output_type": "stream",
     "text": [
      "10\n"
     ]
    }
   ],
   "source": [
    "class A:\n",
    "    def __init__(self, arg):\n",
    "        self.arg = arg\n",
    "    def __str__(self):\n",
    "        return str(self.arg)\n",
    "class B:\n",
    "    def __init__(self, *args):\n",
    "        self.aList = []\n",
    "        for i in args:\n",
    "            self.aList.append(A(i))\n",
    "\n",
    "group = B(5, 10, 'abc')\n",
    "print(group.aList[1])\n",
    "# элемент списка по индексу к полю aList\n",
    "\n",
    "\n"
   ]
  },
  {
   "cell_type": "code",
   "execution_count": 8,
   "metadata": {},
   "outputs": [
    {
     "name": "stdout",
     "output_type": "stream",
     "text": [
      "5\n",
      "abc\n",
      "5\n",
      "10\n",
      "abc\n"
     ]
    }
   ],
   "source": [
    "class A:\n",
    "    def __init__(self, arg):\n",
    "        self.arg = arg\n",
    "    def __str__(self):\n",
    "        return str(self.arg)\n",
    "class B:\n",
    "    def __init__(self, *args):\n",
    "        self.aList = []\n",
    "        for i in args:\n",
    "            self.aList.append(A(i))\n",
    "    def __getitem__(self, i):\n",
    "        return self.aList[i]\n",
    "group = B(5, 10, 'abc')\n",
    "print(group[0]) # 5\n",
    "print(group[2])\n",
    "for _ in group:\n",
    "    print(_)\n"
   ]
  },
  {
   "cell_type": "code",
   "execution_count": 16,
   "metadata": {},
   "outputs": [
    {
     "name": "stdout",
     "output_type": "stream",
     "text": [
      "Выберите карту из колоды в 56 карт:\n",
      "Вы взяли карту:  None.\n"
     ]
    }
   ],
   "source": [
    "import time\n",
    "import random;\n",
    "class Card(): # класс Карта\n",
    "    NumsList = [\"Джокер\",\"2\",\"3\",\"4\",\"5\",\"6\",\"7\",\"8\",\"9\",\"10\",\"Валет\",\"Дама\",\"Король\",\"Туз\"]\n",
    "    MastList = [\"пик\",\"крестей\",\"бубей\",\"червей\"]\n",
    "    def __init__(self, i, j):# конструктор\n",
    "        self.Mastb = self.MastList[i-1]; # карта\n",
    "        self.Num = self.NumsList[j-1]; # масть\n",
    "#----------------------------------------\n",
    "class DeckOfCards(): # класс Колода карт\n",
    "    def __init__(self): # конструктор\n",
    "        self.deck = [None] * 56; # список из 56 карт\n",
    "        k = 0;\n",
    "        for i in range(1, 4 + 1):\n",
    "            for j in range(1, 14 + 1):\n",
    "                self.deck[k] = Card(i, j); # очередная карта\n",
    "                k += 1;\n",
    "    def shuffle(self): # перемешивание карт\n",
    "        random.shuffle(self.deck);\n",
    "    def get(self, i): # вытаскивание i-й карты из колоды\n",
    "        if 0 <= i <=55 :\n",
    "            answer = self.deck[i].Num;\n",
    "            answer += \" \";\n",
    "            answer += self.deck[i].Mastb;\n",
    "        else :\n",
    "            answer = \"В колоде только 56 карт\"\n",
    "            return answer;\n",
    "#----------------------------------------\n",
    "deck = DeckOfCards(); # создали колоду\n",
    "deck.shuffle(); # перемешали\n",
    "print('Выберите карту из колоды в 56 карт:');\n",
    "n=int(input())\n",
    "if n<=56 :\n",
    "    card = deck.get(n-1);\n",
    "    print('Вы взяли карту: ', card, end='.\\n');\n",
    "else :\n",
    "    print(\"В колоде только 56 карт\")"
   ]
  }
 ],
 "metadata": {
  "kernelspec": {
   "display_name": "Python 3",
   "language": "python",
   "name": "python3"
  },
  "language_info": {
   "codemirror_mode": {
    "name": "ipython",
    "version": 3
   },
   "file_extension": ".py",
   "mimetype": "text/x-python",
   "name": "python",
   "nbconvert_exporter": "python",
   "pygments_lexer": "ipython3",
   "version": "3.12.3"
  }
 },
 "nbformat": 4,
 "nbformat_minor": 2
}
